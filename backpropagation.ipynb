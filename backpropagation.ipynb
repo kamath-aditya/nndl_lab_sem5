{
 "cells": [
  {
   "cell_type": "code",
   "execution_count": 28,
   "metadata": {},
   "outputs": [],
   "source": [
    "import numpy as np\n",
    "\n",
    "x = np.array(([2,9],[1,5],[3,6]),dtype=float)\n",
    "y = np.array(([92],[86],[89]),dtype=float)\n",
    "\n",
    "x = x/np.amax(x,axis=0)\n",
    "y = y/100"
   ]
  },
  {
   "cell_type": "code",
   "execution_count": 29,
   "metadata": {},
   "outputs": [],
   "source": [
    "def sigmoid(x):\n",
    "    return 1/(1+np.exp(-x))\n",
    "\n",
    "def sigmoid_derivative(x):\n",
    "    return x*(1-x)"
   ]
  },
  {
   "cell_type": "code",
   "execution_count": 30,
   "metadata": {},
   "outputs": [],
   "source": [
    "input_layer_neurons = 2\n",
    "hidden_layer_neurons = 3\n",
    "output_layer_neurons =1\n",
    "\n",
    "hidden_layer_weights = np.random.uniform(size=(input_layer_neurons,hidden_layer_neurons))\n",
    "hidden_layer_bias = np.random.uniform(size=(1,hidden_layer_neurons))\n",
    "output_layer_weights = np.random.uniform(size=(hidden_layer_neurons,output_layer_neurons))\n",
    "output_layer_bias = np.random.uniform(size=(1,output_layer_neurons))"
   ]
  },
  {
   "cell_type": "code",
   "execution_count": 31,
   "metadata": {},
   "outputs": [
    {
     "name": "stdout",
     "output_type": "stream",
     "text": [
      "[[0.66666667 1.        ]\n",
      " [0.33333333 0.55555556]\n",
      " [1.         0.66666667]]\n",
      "[[0.92]\n",
      " [0.86]\n",
      " [0.89]]\n",
      "[[0.90869043]\n",
      " [0.89760788]\n",
      " [0.90712192]]\n"
     ]
    }
   ],
   "source": [
    "epochs = 1000\n",
    "lr = 0.01\n",
    "for i in range(epochs):\n",
    "    hl = np.dot(x,hidden_layer_weights)+hidden_layer_bias\n",
    "    hidden_layer_output = sigmoid(hl)\n",
    "\n",
    "    ol = np.dot(hidden_layer_output,output_layer_weights)+output_layer_bias\n",
    "    output = sigmoid(ol)\n",
    "\n",
    "    output_error = y-output\n",
    "    output_gradient = sigmoid_derivative(output)\n",
    "    d_output = output_error*output_gradient\n",
    "\n",
    "    hidden_layer_error = np.dot(d_output,output_layer_weights.T)\n",
    "    hidden_gradient = sigmoid_derivative(hidden_layer_output)\n",
    "    d_hidden_layer_output = hidden_layer_error*hidden_gradient\n",
    "\n",
    "    output_layer_weights += np.dot(hidden_layer_output.T,d_output)*lr\n",
    "    hidden_layer_weights += np.dot(x.T,d_hidden_layer_output)*lr\n",
    "\n",
    "print(x)\n",
    "print(y)\n",
    "print(output)"
   ]
  },
  {
   "cell_type": "code",
   "execution_count": null,
   "metadata": {},
   "outputs": [],
   "source": []
  }
 ],
 "metadata": {
  "kernelspec": {
   "display_name": "sem5",
   "language": "python",
   "name": "python3"
  },
  "language_info": {
   "codemirror_mode": {
    "name": "ipython",
    "version": 3
   },
   "file_extension": ".py",
   "mimetype": "text/x-python",
   "name": "python",
   "nbconvert_exporter": "python",
   "pygments_lexer": "ipython3",
   "version": "3.11.9"
  }
 },
 "nbformat": 4,
 "nbformat_minor": 2
}
